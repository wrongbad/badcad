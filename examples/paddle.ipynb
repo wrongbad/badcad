{
 "cells": [
  {
   "cell_type": "code",
   "execution_count": 1,
   "metadata": {},
   "outputs": [
    {
     "data": {
      "text/html": [
       "<style> .cell-output-ipywidget-background { background-color: transparent !important; } </style>"
      ],
      "text/plain": [
       "<IPython.core.display.HTML object>"
      ]
     },
     "metadata": {},
     "output_type": "display_data"
    },
    {
     "data": {
      "application/vnd.jupyter.widget-view+json": {
       "model_id": "c8f7af742d8848048a89b02b4fca8dde",
       "version_major": 2,
       "version_minor": 0
      },
      "text/plain": [
       "Renderer(camera=PerspectiveCamera(children=(DirectionalLight(color='white', intensity=0.5, position=(-40.0, 5.…"
      ]
     },
     "execution_count": 1,
     "metadata": {},
     "output_type": "execute_result"
    }
   ],
   "source": [
    "from badcad import *\n",
    "\n",
    "p = PolyPath(fn=64)\n",
    "p.move((150,0))\n",
    "p.bez([(150,35),(123,75),(65,75)])\n",
    "p.bez([(-10,75),(10,18),(-20,18)])\n",
    "p.bez([(-30,18),(-25,10),(-30,10)])\n",
    "p.line((-80,8)).line((-85,0))\n",
    "\n",
    "p = polygon(p.poly)\n",
    "p += p.mirror(y=1)\n",
    "\n",
    "prub = p & square(180,160).align(xmin=1,y=0)\n",
    "\n",
    "paddle = p.extrude(4, center=True)\n",
    "paddle += p.extrude_to(p.offset(-2),2).move(z=2)\n",
    "paddle += p.extrude_to(p.offset(-2),2).move(z=2).mirror(z=1)\n",
    "paddle += prub.extrude(8, center=True)\n",
    "\n",
    "paddle.rotate(z=90).stl('paddle_frame.stl')"
   ]
  },
  {
   "cell_type": "code",
   "execution_count": 2,
   "metadata": {},
   "outputs": [
    {
     "data": {
      "text/html": [
       "<style> .cell-output-ipywidget-background { background-color: transparent !important; } </style>"
      ],
      "text/plain": [
       "<IPython.core.display.HTML object>"
      ]
     },
     "metadata": {},
     "output_type": "display_data"
    },
    {
     "data": {
      "application/vnd.jupyter.widget-view+json": {
       "model_id": "63ea8ebe71ba45cf972ac426673d6f9d",
       "version_major": 2,
       "version_minor": 0
      },
      "text/plain": [
       "Renderer(camera=PerspectiveCamera(children=(DirectionalLight(color='white', intensity=0.5, position=(-40.0, 5.…"
      ]
     },
     "execution_count": 2,
     "metadata": {},
     "output_type": "execute_result"
    }
   ],
   "source": [
    "rubber = prub.extrude(2)\n",
    "rubber.rotate(z=90).stl('paddle_rubber.stl')"
   ]
  },
  {
   "cell_type": "code",
   "execution_count": 3,
   "metadata": {},
   "outputs": [
    {
     "data": {
      "text/html": [
       "<style> .cell-output-ipywidget-background { background-color: transparent !important; } </style>"
      ],
      "text/plain": [
       "<IPython.core.display.HTML object>"
      ]
     },
     "metadata": {},
     "output_type": "display_data"
    },
    {
     "data": {
      "application/vnd.jupyter.widget-view+json": {
       "model_id": "e9fe47de57d143b5ae7f4341165432d8",
       "version_major": 2,
       "version_minor": 0
      },
      "text/plain": [
       "Renderer(camera=PerspectiveCamera(children=(DirectionalLight(color='white', intensity=0.5, position=(-40.0, 5.…"
      ]
     },
     "execution_count": 3,
     "metadata": {},
     "output_type": "execute_result"
    }
   ],
   "source": [
    "def sigmoid(x):\n",
    "    return 1 / (1 + np.exp(-x))\n",
    "\n",
    "def warp(pts):\n",
    "    x, y, z = pts[:,0], pts[:,1], pts[:,2]\n",
    "    zmax = np.max(z)\n",
    "    x[:] = np.tanh(x/14)*14\n",
    "    x /= (1 + ((z/zmax)**0.6)/3)\n",
    "    y /= (1 + ((z/zmax)**0.6)/3)\n",
    "    x *= sigmoid(z)*2-1\n",
    "    y *= sigmoid(z)*2-1\n",
    "    x *= sigmoid(zmax-z)*2-1\n",
    "    y *= sigmoid(zmax-z)*2-1\n",
    "    return pts\n",
    "\n",
    "handle = circle(d=36, fn=20).extrude(105, fn=128, twist=60)\n",
    "handle = handle.warp_batch(warp)\n",
    "\n",
    "handle -= cylinder(d=40,h=3)\n",
    "handle -= cylinder(d=40,h=10).move(z=102)\n",
    "handle = handle.rotate(y=90).align(xmax=0)\n",
    "handle -= paddle.move(y=0.3) \n",
    "handle -= paddle.move(y=-0.3)\n",
    "\n",
    "handle.rotate(z=90).stl('paddle_handle.stl')"
   ]
  },
  {
   "cell_type": "code",
   "execution_count": 4,
   "metadata": {},
   "outputs": [
    {
     "data": {
      "text/html": [
       "<style> .cell-output-ipywidget-background { background-color: transparent !important; } </style>"
      ],
      "text/plain": [
       "<IPython.core.display.HTML object>"
      ]
     },
     "metadata": {},
     "output_type": "display_data"
    },
    {
     "data": {
      "application/vnd.jupyter.widget-view+json": {
       "model_id": "544a40c14d6d404d8e8296fecb771543",
       "version_major": 2,
       "version_minor": 0
      },
      "text/plain": [
       "Renderer(camera=PerspectiveCamera(children=(DirectionalLight(color='white', intensity=0.5, position=(-40.0, 5.…"
      ]
     },
     "execution_count": 4,
     "metadata": {},
     "output_type": "execute_result"
    }
   ],
   "source": [
    "(handle + paddle + rubber.move(z=4) + rubber.move(z=-6)).rotate(z=90).stl('paddle_assembly.stl')"
   ]
  },
  {
   "cell_type": "code",
   "execution_count": null,
   "metadata": {},
   "outputs": [],
   "source": []
  }
 ],
 "metadata": {
  "kernelspec": {
   "display_name": ".venv",
   "language": "python",
   "name": "python3"
  },
  "language_info": {
   "codemirror_mode": {
    "name": "ipython",
    "version": 3
   },
   "file_extension": ".py",
   "mimetype": "text/x-python",
   "name": "python",
   "nbconvert_exporter": "python",
   "pygments_lexer": "ipython3",
   "version": "3.11.5"
  }
 },
 "nbformat": 4,
 "nbformat_minor": 2
}
